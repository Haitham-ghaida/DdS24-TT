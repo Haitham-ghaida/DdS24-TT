{
 "cells": [
  {
   "cell_type": "code",
   "execution_count": 2,
   "metadata": {},
   "outputs": [
    {
     "name": "stderr",
     "output_type": "stream",
     "text": [
      "Checking URIs: 100%|██████████| 3037/3037 [00:40<00:00, 75.54it/s] "
     ]
    },
    {
     "name": "stdout",
     "output_type": "stream",
     "text": [
      "\n",
      "Total URIs checked: 3037\n",
      "URIs returning errors: 0\n",
      "URIs returning 404 Not Found: 0\n",
      "\n",
      "Detailed results saved to 'uri_verification_results.csv'\n"
     ]
    },
    {
     "name": "stderr",
     "output_type": "stream",
     "text": [
      "\n"
     ]
    }
   ],
   "source": [
    "import pandas as pd\n",
    "import requests\n",
    "from concurrent.futures import ThreadPoolExecutor, as_completed\n",
    "from tqdm import tqdm\n",
    "\n",
    "def check_url(url):\n",
    "    try:\n",
    "        response = requests.head(url, timeout=10)\n",
    "        return url, response.status_code\n",
    "    except requests.RequestException:\n",
    "        return url, 'Error'\n",
    "\n",
    "def verify_uris(csv_file, uri_column='uri'):\n",
    "    # Read the CSV file\n",
    "    df = pd.read_csv(csv_file)\n",
    "    \n",
    "    # Get unique URIs\n",
    "    uris = df[uri_column].unique()\n",
    "    \n",
    "    results = []\n",
    "    \n",
    "    with ThreadPoolExecutor(max_workers=10) as executor:\n",
    "        # Create a list of futures\n",
    "        future_to_url = {executor.submit(check_url, url): url for url in uris}\n",
    "        \n",
    "        for future in tqdm(as_completed(future_to_url), total=len(uris), desc=\"Checking URIs\"):\n",
    "            url, status = future.result()\n",
    "            results.append({'uri': url, 'status': status})\n",
    "    \n",
    "    results_df = pd.DataFrame(results)\n",
    "    \n",
    "    total_uris = len(results_df)\n",
    "    error_uris = results_df[results_df['status'] == 'Error']\n",
    "    not_found_uris = results_df[results_df['status'] == 404]\n",
    "    \n",
    "    print(f\"\\nTotal URIs checked: {total_uris}\")\n",
    "    print(f\"URIs returning errors: {len(error_uris)}\")\n",
    "    print(f\"URIs returning 404 Not Found: {len(not_found_uris)}\")\n",
    "    \n",
    "    # show issues\n",
    "    if not error_uris.empty:\n",
    "        print(\"\\nURIs with errors:\")\n",
    "        print(error_uris['uri'].tolist())\n",
    "    \n",
    "    if not not_found_uris.empty:\n",
    "        print(\"\\nURIs returning 404 Not Found:\")\n",
    "        print(not_found_uris['uri'].tolist())\n",
    "    \n",
    "    # save\n",
    "    results_df.to_csv('uri_verification_results.csv', index=False)\n",
    "    print(\"\\nDetailed results saved to 'uri_verification_results.csv'\")\n",
    "\n",
    "# Usage\n",
    "if __name__ == \"__main__\":\n",
    "    csv_file = 'input.csv'  # the file that comes from organize.ipynb\n",
    "    verify_uris(csv_file)"
   ]
  }
 ],
 "metadata": {
  "kernelspec": {
   "display_name": "teamtrash",
   "language": "python",
   "name": "python3"
  },
  "language_info": {
   "codemirror_mode": {
    "name": "ipython",
    "version": 3
   },
   "file_extension": ".py",
   "mimetype": "text/x-python",
   "name": "python",
   "nbconvert_exporter": "python",
   "pygments_lexer": "ipython3",
   "version": "3.11.10"
  }
 },
 "nbformat": 4,
 "nbformat_minor": 2
}
