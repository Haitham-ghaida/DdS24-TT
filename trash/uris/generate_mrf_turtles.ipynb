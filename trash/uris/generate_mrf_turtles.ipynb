{
 "cells": [
  {
   "cell_type": "code",
   "execution_count": 14,
   "metadata": {},
   "outputs": [
    {
     "name": "stdout",
     "output_type": "stream",
     "text": [
      "Done! Saved to mrf_equipment_efficiency_ontology.ttl\n"
     ]
    }
   ],
   "source": [
    "import csv\n",
    "from rdflib import Graph, Literal, Namespace, URIRef\n",
    "from rdflib.namespace import RDF, SKOS, XSD\n",
    "\n",
    "def make_ontology(csv_file, base_url):\n",
    "    # New graph\n",
    "    g = Graph()\n",
    "\n",
    "    # Set up namespaces\n",
    "    units = Namespace(\"https://vocab.sentier.dev/units/\")\n",
    "    qudt = Namespace(\"http://qudt.org/schema/qudt/\")\n",
    "    mrf = Namespace(base_url)\n",
    "    g.bind(\"units\", units)\n",
    "    g.bind(\"qudt\", qudt)\n",
    "    g.bind(\"mrf\", mrf)\n",
    "    g.bind(\"skos\", SKOS)\n",
    "\n",
    "    # the existing Efficiency concept in chris's thing\n",
    "    efficiency_qk = URIRef(\"https://vocab.sentier.dev/units/quantity-kind/Efficiency\")\n",
    "\n",
    "    # make the concept thingy\n",
    "    scheme = URIRef(base_url)\n",
    "    g.add((scheme, RDF.type, SKOS.ConceptScheme))\n",
    "    g.add((scheme, SKOS.prefLabel, Literal(\"MRF Equipment Efficiency Units\", lang=\"en\")))\n",
    "\n",
    "    # Grab CSV data\n",
    "    with open(csv_file, 'r') as file:\n",
    "        csv_stuff = csv.reader(file)\n",
    "        headers = next(csv_stuff)  # Ditch first column (nevermind) \n",
    "        next(csv_stuff)  # Skip efficiency values row\n",
    "\n",
    "    # Loop through and make concepts\n",
    "    for header in headers:\n",
    "        # Make URI\n",
    "        uri = URIRef(f\"{base_url}unit/{header.replace(' ', '_')}\")\n",
    "\n",
    "        # Add stuff to graph\n",
    "        g.add((uri, RDF.type, SKOS.Concept))\n",
    "        g.add((uri, SKOS.prefLabel, Literal(f\"Efficiency of {header.replace('_', ' ')}\", lang=\"en\")))\n",
    "        g.add((uri, SKOS.inScheme, scheme))\n",
    "        g.add((uri, qudt.hasQuantityKind, efficiency_qk))\n",
    "        g.add((uri, SKOS.broader, efficiency_qk))\n",
    "        g.add((uri, SKOS.notation, Literal(f\"{header.replace(' ', '_')}_eff\", datatype=qudt.symbol)))\n",
    "        g.add((uri, SKOS.definition, Literal(f\"Ratio of output to input for {header.replace('_', ' ')} in Material Recovery Facility\", lang=\"en\")))\n",
    "        g.add((uri, qudt.latexSymbol, Literal(f\"\\\\eta_{{{header.replace(' ', '_')}}}\", datatype=qudt.LatexString)))\n",
    "        g.add((uri, qudt.informativeReference, Literal(\"https://en.wikipedia.org/wiki/Material_recovery_facility\", datatype=XSD.anyURI)))\n",
    "\n",
    "    return g\n",
    "\n",
    "# Do the thing\n",
    "csv_file = \"corrected_mrf_equipment_efficiency.csv\"\n",
    "base_url = \"https://vocab.sentier.dev/model-terms/mrf-equipment/\"\n",
    "\n",
    "ontology = make_ontology(csv_file, base_url)\n",
    "\n",
    "# Save it\n",
    "output_file = \"mrf_equipment_efficiency_ontology.ttl\"\n",
    "ontology.serialize(destination=output_file, format=\"turtle\")\n",
    "\n",
    "print(f\"Done! Saved to {output_file}\")"
   ]
  }
 ],
 "metadata": {
  "kernelspec": {
   "display_name": "teamtrash",
   "language": "python",
   "name": "python3"
  },
  "language_info": {
   "codemirror_mode": {
    "name": "ipython",
    "version": 3
   },
   "file_extension": ".py",
   "mimetype": "text/x-python",
   "name": "python",
   "nbconvert_exporter": "python",
   "pygments_lexer": "ipython3",
   "version": "3.11.10"
  }
 },
 "nbformat": 4,
 "nbformat_minor": 2
}
