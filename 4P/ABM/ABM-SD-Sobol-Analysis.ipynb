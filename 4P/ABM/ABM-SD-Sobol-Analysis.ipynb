{
 "cells": [
  {
   "cell_type": "markdown",
   "metadata": {},
   "source": [
    "# ABM-SD Integrated Model"
   ]
  },
  {
   "cell_type": "code",
   "execution_count": 7,
   "metadata": {},
   "outputs": [],
   "source": [
    "import numpy as np\n",
    "import pandas as pd\n",
    "import seaborn as sns\n",
    "import matplotlib.pyplot as plt\n",
    "from sklearn.ensemble import RandomForestRegressor\n",
    "from sklearn.svm import SVR\n",
    "from sklearn import svm\n",
    "from sklearn.neural_network import MLPRegressor\n",
    "from sklearn.neighbors import KNeighborsRegressor\n",
    "from sklearn.metrics import (mean_absolute_error, mean_squared_error, r2_score, explained_variance_score, \n",
    "                             max_error, median_absolute_error)\n",
    "from sklearn.preprocessing import StandardScaler, LabelEncoder\n",
    "from sklearn.model_selection import train_test_split\n",
    "from sklearn.model_selection import cross_val_score\n",
    "from sklearn.model_selection import cross_validate\n",
    "from copy import deepcopy\n",
    "%matplotlib inline\n",
    "import operator\n",
    "from IPython.display import display, clear_output"
   ]
  },
  {
   "cell_type": "markdown",
   "metadata": {},
   "source": [
    "# Data Preparation\n",
    "\n",
    "\n",
    "<ul>\n",
    "<li>We use supervised machine learning because we have labeled data (from the ABM).</li>\n",
    "<li>We also use a regressor because our main inputs are recycling, wishcycling and trash (in kg).</li>\n",
    "<li>Following Vadhati et al. and common machine learning knowledge we use 4 different models: random forest, KNN,\n",
    "SVM and a neural network (MLP Regressor).</li>\n",
    "</ul>"
   ]
  },
  {
   "cell_type": "code",
   "execution_count": 8,
   "metadata": {},
   "outputs": [],
   "source": [
    "df_abm = pd.read_csv(\"/Users/ssethura/Desktop/PCEM/SobolBatchRun_0717.csv\")\n",
    "df_abm = df_abm.loc[df_abm[\"Year\"] == 31]\n",
    "df_abm = df_abm[df_abm[\"scenario\"] == \"Oregon\"]\n",
    "df_abm = df_abm.filter([\"x_0\", \"x_1\", \"x_2\", \"x_3\", \"x_4\", \"x_5\", \"recycling\", \"trash\", \"wishcycling\"], axis=1)\n",
    "\n",
    "X = df_abm.filter([\"x_0\", \"x_1\", \"x_2\", \"x_3\", \"x_4\", \"x_5\"], axis=1)\n",
    "y_variable = {'recycling': df_abm['recycling'], 'trash': df_abm['trash'], \n",
    "              'wishcycling': df_abm['wishcycling']}\n",
    "y = y_variable['recycling']\n",
    "\n",
    "sc = StandardScaler()\n",
    "X = sc.fit_transform(X)\n",
    "X_train, X_test, y_train, y_test = train_test_split(X,y,test_size=0.2,random_state=101)"
   ]
  },
  {
   "cell_type": "markdown",
   "metadata": {},
   "source": [
    "# Loops through different ML models and hyperparameters"
   ]
  },
  {
   "cell_type": "code",
   "execution_count": 116,
   "metadata": {},
   "outputs": [
    {
     "name": "stdout",
     "output_type": "stream",
     "text": [
      "Results with hyperparameter_1 =  2  and  hyperparameter_2 =  2\n",
      "{'Random forest': 0.8769971926134306, 'Support vector machine': -0.07047185129859819, 'Neural network': 0.7982637178046162, 'K-nearest neighbors': 0.8589331838093454} {'Random forest': 0.028009646997191297, 'Support vector machine': 0.1472290361950615, 'Neural network': 0.07147411727598614, 'K-nearest neighbors': 0.04070486422435861}\n",
      "Best model for mean R2 Random forest 0.8769971926134306\n",
      "Model with lowest std R2 Support vector machine 0.1472290361950615\n",
      "Results with hyperparameter_1 =  2  and  hyperparameter_2 =  3\n",
      "{'Random forest': 0.9263034077528681, 'Support vector machine': -0.15645943712823016, 'Neural network': 0.8181970007932774, 'K-nearest neighbors': 0.8589331838093454} {'Random forest': 0.01992832563980027, 'Support vector machine': 0.1431817519659826, 'Neural network': 0.06755997640283164, 'K-nearest neighbors': 0.04070486422435861}\n",
      "Best model for mean R2 Random forest 0.9263034077528681\n",
      "Model with lowest std R2 Support vector machine 0.1431817519659826\n",
      "Results with hyperparameter_1 =  3  and  hyperparameter_2 =  2\n",
      "{'Random forest': 0.8783770309705309, 'Support vector machine': -0.07047185129859819, 'Neural network': 0.8706933992446568, 'K-nearest neighbors': 0.8669960135616839} {'Random forest': 0.02933562748983197, 'Support vector machine': 0.1472290361950615, 'Neural network': 0.05041731317194771, 'K-nearest neighbors': 0.036054829478462384}\n",
      "Best model for mean R2 Random forest 0.8783770309705309\n",
      "Model with lowest std R2 Support vector machine 0.1472290361950615\n",
      "Results with hyperparameter_1 =  3  and  hyperparameter_2 =  3\n",
      "{'Random forest': 0.9262143506862623, 'Support vector machine': -0.15645943712823016, 'Neural network': 0.8761589523641948, 'K-nearest neighbors': 0.8669960135616839} {'Random forest': 0.018435031792783076, 'Support vector machine': 0.1431817519659826, 'Neural network': 0.07198151886109408, 'K-nearest neighbors': 0.036054829478462384}\n",
      "Best model for mean R2 Random forest 0.9262143506862623\n",
      "Model with lowest std R2 Support vector machine 0.1431817519659826\n",
      "The best model is  Random forest  with a mean R2 of  0.9263034077528681\n"
     ]
    }
   ],
   "source": [
    "#For r2_score --> value close to 1 is good 0 or negative is not good (compare to the case where we use\n",
    "#the mean of the data as a model!) so here it is close to zero which mean the model is not better than \n",
    "# using the mean! (expected as data are random)\n",
    "#Mean absolute error = average(|predicted - real|) so here the average error is 25%\n",
    "#Mean squared error = average(predicted - real)^2) value closer to zero are best\n",
    "#explained_variance_score is close to R2 but account for mean error. Comparing R2 and this tells us if the model\n",
    "#is biased or not (has a high mean of error)\n",
    "\n",
    "# Next 3 lines check if we need a hig number of replicates (answer is yes) (indent rest of the code when using it):\n",
    "# pv_abm_deep_copy = deepcopy(pv_abm)\n",
    "# for i in range(number_files):\n",
    "    # pv_abm = pv_abm_deep_copy.head(round(pv_abm_deep_copy.shape[0]/(number_files - i)))\n",
    "test_ml_algorithm = True\n",
    "if test_ml_algorithm:\n",
    "    hyperparameter_1 = [2, 3]\n",
    "    hyperparameter_2 = [2, 3]\n",
    "    total_scores = []\n",
    "    name_model = []\n",
    "    for i in range(len(hyperparameter_1)):\n",
    "        for j in range(len(hyperparameter_2)):\n",
    "            rfr = RandomForestRegressor(n_estimators=100*hyperparameter_1[i], max_depth=2*hyperparameter_2[j])\n",
    "            svr = svm.SVR(gamma='scale', C=0.5*hyperparameter_1[i], epsilon=0.05*hyperparameter_2[j])\n",
    "            mlpr = MLPRegressor(hidden_layer_sizes=(30*hyperparameter_1[i],\n",
    "                                                    30*hyperparameter_1[i],30*hyperparameter_1[i], 30*hyperparameter_1[i]), \n",
    "                               max_iter=1000*hyperparameter_2[j])\n",
    "            knn = KNeighborsRegressor(n_neighbors=int(round(2*hyperparameter_1[i])))\n",
    "            models = {'Random forest': rfr, 'Support vector machine': svr, 'Neural network': mlpr, \n",
    "                      'K-nearest neighbors': knn}\n",
    "            results_r2_mean = dict.fromkeys(['Random forest', 'Support vector machine', 'Neural network', \n",
    "                                                 'K-nearest neighbors'])\n",
    "            results_r2_std = dict.fromkeys(['Random forest', 'Support vector machine', 'Neural network', \n",
    "                                                 'K-nearest neighbors'])\n",
    "            for key in models.keys():\n",
    "                score_mean = cross_val_score(models[key], X, y, cv=10, scoring=\"r2\").mean()\n",
    "                score_std = cross_val_score(models[key], X, y, cv=10, scoring=\"r2\").std()\n",
    "                results_r2_mean[key] = score_mean\n",
    "                total_scores.append(score_mean)\n",
    "                name_model.append(key)\n",
    "                results_r2_std[key] = score_std\n",
    "                #all_scores.update(key = score_mean)\n",
    "            best_model = max(results_r2_mean.items(), key=operator.itemgetter(1))[0]\n",
    "            lowest_variance = max(results_r2_std.items(), key=operator.itemgetter(1))[0]\n",
    "            print(\"Results with hyperparameter_1 = \", hyperparameter_1[i], \" and \", \n",
    "                  \"hyperparameter_2 = \", hyperparameter_2[j])\n",
    "            print(results_r2_mean, results_r2_std)\n",
    "            print(\"Best model for mean R2\", best_model, results_r2_mean[best_model])\n",
    "            print(\"Model with lowest std R2\", lowest_variance, results_r2_std[lowest_variance])\n",
    "    best_model_total = max(total_scores)\n",
    "    index = total_scores.index(best_model_total)\n",
    "    print(\"The best model is \", name_model[index], \" with a mean R2 of \", best_model_total)"
   ]
  },
  {
   "cell_type": "markdown",
   "metadata": {},
   "source": [
    "# Fine tune selected model"
   ]
  },
  {
   "cell_type": "code",
   "execution_count": 117,
   "metadata": {},
   "outputs": [
    {
     "name": "stdout",
     "output_type": "stream",
     "text": [
      "loop  4  out of  4\n",
      "The model is fine tune with hyperparameter_1  4  and hyperparameter_2  1  with a mean R2 of  0.8913822349060876\n"
     ]
    }
   ],
   "source": [
    "# From previous select the best model and fine tune parameters:\n",
    "fine_tune = True\n",
    "if fine_tune:\n",
    "    hyperparameter_1 = range(1, 5)\n",
    "    hyperparameter_2 = range(1, 2)\n",
    "    scores_fine_tune = []\n",
    "    hyperparameters = []\n",
    "    count=0\n",
    "    for i in range(len(hyperparameter_1)):\n",
    "        for j in range(len(hyperparameter_2)):\n",
    "            #model = RandomForestRegressor(n_estimators=100*hyperparameter_1[i], max_depth=2*hyperparameter_2[j])\n",
    "            #model = svm.SVR(gamma='scale', C=0.5*hyperparameter_1[i], epsilon=0.05*hyperparameter_2[j])\n",
    "            #model = KNeighborsRegressor(n_neighbors=int(round(2*hyperparameter_1[i])))\n",
    "            model = MLPRegressor(hidden_layer_sizes=(30*hyperparameter_1[i], 30*hyperparameter_1[i],30*hyperparameter_1[i],\n",
    "                                                     30*hyperparameter_1[i]), max_iter=1000*hyperparameter_2[j])\n",
    "            #model = MLPRegressor(hidden_layer_sizes=(10*hyperparameter_1[i],10*hyperparameter_1[i],\n",
    "             #                                        10*hyperparameter_1[i]), max_iter=250*hyperparameter_2[j])\n",
    "            score_mean = cross_val_score(model, X, y, cv=5, scoring=\"r2\").mean()\n",
    "            scores_fine_tune.append(score_mean)\n",
    "            hyperparameters.append([i, j])\n",
    "            count += 1\n",
    "            clear_output(wait=True)\n",
    "            print('loop ', count, ' out of ', len(hyperparameter_1)*len(hyperparameter_2))\n",
    "    model_fine_tune = max(scores_fine_tune)\n",
    "    index2 = scores_fine_tune.index(model_fine_tune)\n",
    "    print(\"The model is fine tune with hyperparameter_1 \", hyperparameter_1[hyperparameters[index2][0]], \n",
    "          \" and hyperparameter_2 \", hyperparameter_2[hyperparameters[index2][1]], \" with a mean R2 of \", model_fine_tune)"
   ]
  },
  {
   "cell_type": "code",
   "execution_count": 3,
   "metadata": {},
   "outputs": [
    {
     "name": "stdout",
     "output_type": "stream",
     "text": [
      "Fitting 10 folds for each of 160 candidates, totalling 1600 fits\n",
      "Best parameters found:\n",
      " {'activation': 'relu', 'alpha': 0.05, 'hidden_layer_sizes': (100, 100, 100, 100), 'learning_rate': 'constant', 'solver': 'adam', 'warm_start': False}\n"
     ]
    }
   ],
   "source": [
    "#MLP REGRESSOR\n",
    "grid_search = True\n",
    "if grid_search:\n",
    "    from sklearn.model_selection import GridSearchCV\n",
    "    parameter_space = {\n",
    "        'hidden_layer_sizes': [(7, 25, 120, 100), (100, 100, 100, 100), (50,100,50), (120,100,50), (100,50)],\n",
    "        'activation': ['tanh', 'relu'],\n",
    "        'solver': ['sgd', 'adam'],\n",
    "        'alpha': [0.0001, 0.05],\n",
    "        'learning_rate': ['constant','adaptive'], \n",
    "        'warm_start': [True, False]}\n",
    "    gsc = GridSearchCV(estimator=MLPRegressor(max_iter=2000), param_grid=parameter_space, cv=10, \n",
    "                       scoring='neg_mean_squared_error', verbose=1, n_jobs=-1)\n",
    "    gsc.fit(X_train, y_train)\n",
    "    print('Best parameters found:\\n', gsc.best_params_)"
   ]
  },
  {
   "cell_type": "code",
   "execution_count": 4,
   "metadata": {},
   "outputs": [
    {
     "name": "stdout",
     "output_type": "stream",
     "text": [
      "Mean R2 Y 0.9741899584128291 Standard deviation R2 0.00700340141345901 Mean mean square error Y -6.704098118193204e-05\n"
     ]
    }
   ],
   "source": [
    "# we verify our fine tune model:\n",
    "#model = RandomForestRegressor(n_estimators=400, max_depth=10)\n",
    "#model = svm.SVR(gamma='scale', C=1.5, epsilon=0.05)\n",
    "#model = KNeighborsRegressor(n_neighbors=18)\n",
    "#from sklearn.metrics import mean_absolute_percentage_error\n",
    "#from sklearn.metrics import SCORERS\n",
    "model = MLPRegressor(hidden_layer_sizes=(100,100,100,100), activation='relu', alpha=0.05, learning_rate='constant', \n",
    "                     solver='adam', warm_start=False, max_iter=2000, random_state=101)\n",
    "#model = MLPRegressor(hidden_layer_sizes=(20,20,20), max_iter=500)\n",
    "print(\"Mean R2 Y\", cross_val_score(model, X, y, cv=10, scoring=\"r2\").mean(),\n",
    "      \"Standard deviation R2\", cross_val_score(model, X, y, cv=10, scoring=\"r2\").std(), \n",
    "     \"Mean mean square error Y\", cross_val_score(model, X, y, cv=10, scoring=\"neg_mean_squared_error\").mean())"
   ]
  },
  {
   "cell_type": "code",
   "execution_count": 9,
   "metadata": {},
   "outputs": [
    {
     "name": "stdout",
     "output_type": "stream",
     "text": [
      "Fitting 10 folds for each of 288 candidates, totalling 2880 fits\n",
      "Best parameters found:\n",
      " {'bootstrap': True, 'max_depth': 80, 'max_features': 3, 'min_samples_leaf': 3, 'min_samples_split': 8, 'n_estimators': 300}\n"
     ]
    }
   ],
   "source": [
    "#RANDOM FOREST\n",
    "grid_search = True\n",
    "if grid_search:\n",
    "    from sklearn.model_selection import GridSearchCV\n",
    "    parameter_space = {\n",
    "        'bootstrap': [True],\n",
    "        'max_depth': [80, 90, 100, 110],\n",
    "        'max_features': [2, 3],\n",
    "        'min_samples_leaf': [3, 4, 5],\n",
    "        'min_samples_split': [8, 10, 12],\n",
    "        'n_estimators': [100, 200, 300, 1000]}\n",
    "    \n",
    "    rf = RandomForestRegressor(random_state = 42)\n",
    "\n",
    "    gsc = GridSearchCV(estimator=rf, param_grid=parameter_space, cv=10, \n",
    "                       scoring='neg_mean_squared_error', verbose=1, n_jobs=-1)\n",
    "    gsc.fit(X_train, y_train)\n",
    "    print('Best parameters found:\\n', gsc.best_params_)"
   ]
  },
  {
   "cell_type": "code",
   "execution_count": 10,
   "metadata": {},
   "outputs": [
    {
     "name": "stdout",
     "output_type": "stream",
     "text": [
      "Mean R2 Y 0.7480720549079637 Standard deviation R2 0.09339423175216345 Mean mean square error Y -0.0001016083263594511\n"
     ]
    }
   ],
   "source": [
    "# we verify our fine tune model:\n",
    "model = RandomForestRegressor(n_estimators=300, max_depth=80, max_features=3, min_samples_leaf=3, min_samples_split = 8, bootstrap = True)\n",
    "#model = svm.SVR(gamma='scale', C=1.5, epsilon=0.05)\n",
    "#model = KNeighborsRegressor(n_neighbors=18)\n",
    "#from sklearn.metrics import mean_absolute_percentage_error\n",
    "#from sklearn.metrics import SCORERS\n",
    "#model = MLPRegressor(hidden_layer_sizes=(20,20,20), max_iter=500)\n",
    "print(\"Mean R2 Y\", cross_val_score(model, X, y, cv=10, scoring=\"r2\").mean(),\n",
    "      \"Standard deviation R2\", cross_val_score(model, X, y, cv=10, scoring=\"r2\").std(), \n",
    "     \"Mean mean square error Y\", cross_val_score(model, X, y, cv=10, scoring=\"neg_mean_squared_error\").mean())"
   ]
  },
  {
   "cell_type": "code",
   "execution_count": 122,
   "metadata": {},
   "outputs": [
    {
     "name": "stdout",
     "output_type": "stream",
     "text": [
      "Fitting 10 folds for each of 25 candidates, totalling 250 fits\n",
      "Best parameters found:\n",
      " {'C': 10, 'gamma': 0.0001, 'kernel': 'rbf'}\n"
     ]
    }
   ],
   "source": [
    "#SVM\n",
    "grid_search = True\n",
    "if grid_search:\n",
    "    from sklearn.model_selection import GridSearchCV\n",
    "    param_grid = {'C': [0.1, 1, 10, 100, 1000],\n",
    "              'gamma': [1, 0.1, 0.01, 0.001, 0.0001],\n",
    "              'kernel': ['rbf']}\n",
    "    \n",
    "    supportVM = svm.SVR()\n",
    "    \n",
    "    gsc = GridSearchCV(estimator=supportVM, param_grid = param_grid, \n",
    "                          cv =10, n_jobs = -1, verbose = 1, scoring='neg_mean_squared_error')\n",
    "\n",
    "    gsc.fit(X_train, y_train)\n",
    "    print('Best parameters found:\\n', gsc.best_params_)"
   ]
  },
  {
   "cell_type": "code",
   "execution_count": 123,
   "metadata": {},
   "outputs": [
    {
     "name": "stdout",
     "output_type": "stream",
     "text": [
      "Mean R2 Y 0.727355457425466 Standard deviation R2 0.06119765775641782 Mean mean square error Y -0.0006892035520446826\n"
     ]
    }
   ],
   "source": [
    "# we verify our fine tune model:\n",
    "#model = RandomForestRegressor(n_estimators=400, max_depth=10)\n",
    "model = svm.SVR(gamma=0.0001, C=1000, epsilon=0.05, kernel='rbf')\n",
    "#model = KNeighborsRegressor(n_neighbors=18)\n",
    "#from sklearn.metrics import mean_absolute_percentage_error\n",
    "#from sklearn.metrics import SCORERS\n",
    "#model = MLPRegressor(hidden_layer_sizes=(20,20,20), max_iter=500)\n",
    "print(\"Mean R2 Y\", cross_val_score(model, X, y, cv=10, scoring=\"r2\").mean(),\n",
    "      \"Standard deviation R2\", cross_val_score(model, X, y, cv=10, scoring=\"r2\").std(), \n",
    "     \"Mean mean square error Y\", cross_val_score(model, X, y, cv=10, scoring=\"neg_mean_squared_error\").mean())"
   ]
  },
  {
   "cell_type": "code",
   "execution_count": 124,
   "metadata": {},
   "outputs": [
    {
     "name": "stdout",
     "output_type": "stream",
     "text": [
      "Fitting 10 folds for each of 30 candidates, totalling 300 fits\n",
      "Best parameters found:\n",
      " {'n_neighbors': 10}\n"
     ]
    }
   ],
   "source": [
    "#KNN\n",
    "\n",
    "grid_search = True\n",
    "if grid_search:\n",
    "    from sklearn.model_selection import GridSearchCV\n",
    "    k_range = list(range(1, 31))\n",
    "    param_grid = dict(n_neighbors=k_range)\n",
    "    \n",
    "    kNearest = knn\n",
    "    \n",
    "    gsc = GridSearchCV(kNearest, param_grid, cv=10, scoring='neg_mean_squared_error', verbose=1, n_jobs = -1)\n",
    "\n",
    "    gsc.fit(X_train, y_train)\n",
    "    print('Best parameters found:\\n', gsc.best_params_)"
   ]
  },
  {
   "cell_type": "code",
   "execution_count": 125,
   "metadata": {},
   "outputs": [
    {
     "name": "stdout",
     "output_type": "stream",
     "text": [
      "Mean R2 Y 0.8669960135616839 Standard deviation R2 0.036054829478462384 Mean mean square error Y -0.0003470271919844487\n"
     ]
    }
   ],
   "source": [
    "# we verify our fine tune model:\n",
    "#model = RandomForestRegressor(n_estimators=400, max_depth=10)\n",
    "#model = svm.SVR(gamma='scale', C=1.5, epsilon=0.05)\n",
    "model = KNeighborsRegressor(n_neighbors=6)\n",
    "#from sklearn.metrics import mean_absolute_percentage_error\n",
    "#from sklearn.metrics import SCORERS\n",
    "#model = MLPRegressor(hidden_layer_sizes=(20,20,20), max_iter=500)\n",
    "print(\"Mean R2 Y\", cross_val_score(model, X, y, cv=10, scoring=\"r2\").mean(),\n",
    "      \"Standard deviation R2\", cross_val_score(model, X, y, cv=10, scoring=\"r2\").std(), \n",
    "     \"Mean mean square error Y\", cross_val_score(model, X, y, cv=10, scoring=\"neg_mean_squared_error\").mean())"
   ]
  },
  {
   "cell_type": "markdown",
   "metadata": {},
   "source": [
    "# Predictions:"
   ]
  },
  {
   "cell_type": "code",
   "execution_count": 11,
   "metadata": {},
   "outputs": [
    {
     "name": "stderr",
     "output_type": "stream",
     "text": [
      "/Users/ssethura/opt/anaconda3/envs/pcem/lib/python3.8/site-packages/sklearn/base.py:450: UserWarning: X does not have valid feature names, but StandardScaler was fitted with feature names\n",
      "  warnings.warn(\n",
      "/Users/ssethura/opt/anaconda3/envs/pcem/lib/python3.8/site-packages/sklearn/base.py:450: UserWarning: X does not have valid feature names, but StandardScaler was fitted with feature names\n",
      "  warnings.warn(\n",
      "/Users/ssethura/opt/anaconda3/envs/pcem/lib/python3.8/site-packages/sklearn/base.py:450: UserWarning: X does not have valid feature names, but StandardScaler was fitted with feature names\n",
      "  warnings.warn(\n",
      "/Users/ssethura/opt/anaconda3/envs/pcem/lib/python3.8/site-packages/sklearn/base.py:450: UserWarning: X does not have valid feature names, but StandardScaler was fitted with feature names\n",
      "  warnings.warn(\n",
      "/Users/ssethura/opt/anaconda3/envs/pcem/lib/python3.8/site-packages/sklearn/base.py:450: UserWarning: X does not have valid feature names, but StandardScaler was fitted with feature names\n",
      "  warnings.warn(\n",
      "/Users/ssethura/opt/anaconda3/envs/pcem/lib/python3.8/site-packages/sklearn/base.py:450: UserWarning: X does not have valid feature names, but StandardScaler was fitted with feature names\n",
      "  warnings.warn(\n",
      "/Users/ssethura/opt/anaconda3/envs/pcem/lib/python3.8/site-packages/sklearn/base.py:450: UserWarning: X does not have valid feature names, but StandardScaler was fitted with feature names\n",
      "  warnings.warn(\n",
      "/Users/ssethura/opt/anaconda3/envs/pcem/lib/python3.8/site-packages/sklearn/base.py:450: UserWarning: X does not have valid feature names, but StandardScaler was fitted with feature names\n",
      "  warnings.warn(\n",
      "/Users/ssethura/opt/anaconda3/envs/pcem/lib/python3.8/site-packages/sklearn/base.py:450: UserWarning: X does not have valid feature names, but StandardScaler was fitted with feature names\n",
      "  warnings.warn(\n"
     ]
    },
    {
     "name": "stdout",
     "output_type": "stream",
     "text": [
      "[0.39668829760203766, 0.3969840801230395, 0.39689726857964336, 0.39667455739347185, 0.3973361308408133, 0.3964207195108754, 0.396880298478028, 0.39683767942996806, 0.39677392157709584, 0.3971047209312791] 0.3968597674466252 0.00025133663741973034\n"
     ]
    },
    {
     "name": "stderr",
     "output_type": "stream",
     "text": [
      "/Users/ssethura/opt/anaconda3/envs/pcem/lib/python3.8/site-packages/sklearn/base.py:450: UserWarning: X does not have valid feature names, but StandardScaler was fitted with feature names\n",
      "  warnings.warn(\n"
     ]
    }
   ],
   "source": [
    "#we use the model on new data:\n",
    "import time\n",
    "import statistics\n",
    "ynew_list = []\n",
    "for parameter in range(1):\n",
    "    for i in range(10):\n",
    "        Xnew = [[0.5, 0.7, 0.9, -0.5, 0.2, 0.2]]\n",
    "        #Important step:\n",
    "        #rfr.fit(X, y)\n",
    "        model = RandomForestRegressor(n_estimators=1000, max_depth=80, max_features=3, min_samples_leaf=3, min_samples_split = 8, bootstrap = True)\n",
    "        #model = svm.SVR(gamma='scale',C=2, epsilon=0.15) - create a random forest model here \n",
    "        # t0 = time.time()\n",
    "        model.fit(X, y)\n",
    "        Xnew = sc.transform(Xnew)\n",
    "        #ynew = rfr.predict(Xnew)\n",
    "        ynew = model.predict(Xnew)\n",
    "        # t1 = time.time()\n",
    "        # print(t1 - t0)\n",
    "        ynew_list.append(ynew[0])\n",
    "    #print(parameter, sum(ynew_list)/len(ynew_list))\n",
    "    print(ynew_list, sum(ynew_list)/len(ynew_list), statistics.stdev(ynew_list))"
   ]
  },
  {
   "cell_type": "code",
   "execution_count": 12,
   "metadata": {},
   "outputs": [
    {
     "name": "stdout",
     "output_type": "stream",
     "text": [
      "loop  14000  out of  14000\n"
     ]
    }
   ],
   "source": [
    "from SALib.sample import saltelli\n",
    "from SALib.analyze import sobol\n",
    "from SALib.analyze import delta\n",
    "from SALib.analyze import morris\n",
    "from SALib.test_functions import Ishigami\n",
    "problem = {\n",
    "        'num_vars': 6,\n",
    "        'names': [\"sn\",\"pbc\",\"kn\",\"ds\", \"att\", \"bin\"],\n",
    "        'bounds': [[0,1], [0, 1], [0, 1], [-1,0], [0,1], [0,1]]}\n",
    "X_pred = saltelli.sample(problem, 1000)\n",
    "#X_pred = sc.fit_transform(X_pred)\n",
    "sobol_analysis = True\n",
    "if sobol_analysis:\n",
    "    result_array = np.empty((0, 8))\n",
    "    count = 0\n",
    "    replicates = 1\n",
    "    for i in range(replicates):\n",
    "        model.fit(X, y)\n",
    "        for i in range(X_pred.shape[0]):\n",
    "            Xnew = [[X_pred[i][0], X_pred[i][1], X_pred[i][2], X_pred[i][3], X_pred[i][4], X_pred[i][5]]]\n",
    "            Xnew = sc.transform(Xnew)\n",
    "            #ynew = rfr.predict(Xnew)\n",
    "            ynew = model.predict(Xnew)\n",
    "            result_array = np.append(result_array, [[i, X_pred[i][0], X_pred[i][1], X_pred[i][2], X_pred[i][3], X_pred[i][4], X_pred[i][5],\n",
    "                                                     float(ynew)]], axis=0)\n",
    "            count += 1\n",
    "            clear_output(wait=True)\n",
    "            print('loop ', count, ' out of ', replicates * X_pred.shape[0])\n",
    "    var_names = np.array(['index', \"sn\",\"pbc\",\"kn\",\"ds\", \"att\", \"bin\", 'Y'])\n",
    "    result_array =  np.vstack((var_names, result_array))\n",
    "    data_out2 = pd.DataFrame(data=result_array[1:,1:], columns=result_array[0,1:])\n",
    "    data_out2.to_csv(\"Data_out2.csv\")"
   ]
  },
  {
   "cell_type": "markdown",
   "metadata": {},
   "source": [
    "# Analysis:"
   ]
  },
  {
   "cell_type": "code",
   "execution_count": 13,
   "metadata": {},
   "outputs": [
    {
     "name": "stdout",
     "output_type": "stream",
     "text": [
      "['Y' '0.3871567786592774' '0.38784964363908564' ... '0.41418314095278264'\n",
      " '0.42704966385843157' '0.4174467993170268']\n",
      "           ST   ST_conf\n",
      "sn   0.387339  0.036623\n",
      "pbc  0.124116  0.013037\n",
      "kn   0.057672  0.005796\n",
      "ds   0.207220  0.024462\n",
      "att  0.075381  0.008501\n",
      "bin  0.214206  0.020196\n",
      "           S1   S1_conf\n",
      "sn   0.379852  0.044202\n",
      "pbc  0.103130  0.031827\n",
      "kn   0.057221  0.021266\n",
      "ds   0.175073  0.040067\n",
      "att  0.061020  0.026615\n",
      "bin  0.193965  0.037486\n",
      "                  S2   S2_conf\n",
      "(sn, pbc)  -0.016082  0.069158\n",
      "(sn, kn)   -0.021486  0.069347\n",
      "(sn, ds)   -0.000417  0.081359\n",
      "(sn, att)  -0.015395  0.070994\n",
      "(sn, bin)  -0.023438  0.073992\n",
      "(pbc, kn)   0.004404  0.045718\n",
      "(pbc, ds)   0.007552  0.050525\n",
      "(pbc, att)  0.004274  0.049600\n",
      "(pbc, bin)  0.008107  0.049364\n",
      "(kn, ds)   -0.000338  0.032962\n",
      "(kn, att)  -0.001351  0.033893\n",
      "(kn, bin)   0.001408  0.032842\n",
      "(ds, att)   0.012717  0.056950\n",
      "(ds, bin)   0.009742  0.062805\n",
      "(att, bin)  0.004260  0.039056\n"
     ]
    },
    {
     "name": "stderr",
     "output_type": "stream",
     "text": [
      "/var/folders/cl/ht35wqfd3k59fxyg0r8rkrfdkf38cq/T/ipykernel_73441/3540798743.py:3: DeprecationWarning: `np.float` is a deprecated alias for the builtin `float`. To silence this warning, use `float` by itself. Doing this will not modify any behavior and is safe. If you specifically wanted the numpy scalar type, use `np.float64` here.\n",
      "Deprecated in NumPy 1.20; for more details and guidance: https://numpy.org/devdocs/release/1.20.0-notes.html#deprecations\n",
      "  Y_analysis = np.array(np.delete(Y_analysis, 0)).astype(np.float)\n",
      "/var/folders/cl/ht35wqfd3k59fxyg0r8rkrfdkf38cq/T/ipykernel_73441/3540798743.py:54: MatplotlibDeprecationWarning: The 'b' parameter of grid() has been renamed 'visible' since Matplotlib 3.5; support for the old name will be dropped two minor releases later.\n",
      "  ax.grid(b=True, which='minor', color='lightgrey', linewidth=0.5)\n",
      "/var/folders/cl/ht35wqfd3k59fxyg0r8rkrfdkf38cq/T/ipykernel_73441/3540798743.py:56: MatplotlibDeprecationWarning: savefig() got unexpected keyword argument \"figsize\" which is no longer supported as of 3.3 and will become an error in 3.6\n",
      "  plt.savefig(\"SobolIndicesMomentSensitivityAnalysis.png\", bbox_inches='tight', figsize=(5.5, 3.5), dpi=500)\n"
     ]
    },
    {
     "data": {
      "image/png": "[encoded data removed]",
      "text/plain": [
       "<Figure size 1080x360 with 1 Axes>"
      ]
     },
     "metadata": {
      "needs_background": "light"
     },
     "output_type": "display_data"
    }
   ],
   "source": [
    "Y_analysis = result_array[:, -1]\n",
    "print(Y_analysis)\n",
    "Y_analysis = np.array(np.delete(Y_analysis, 0)).astype(np.float)\n",
    "#print(sobol_abm_5['Y'].to_numpy()) sobol_abm_5['Y'].to_numpy() instead of Y_analysis below\n",
    "Si = sobol.analyze(problem, Y_analysis, print_to_console=True)\n",
    "# Negative value are wrong. If so use delta or morris analysis\n",
    "# or use: So to center the output, is it considered best practice to: \n",
    "# (1) subtract the mean, (2) subtract the median, or (3) do (Y - mean) / std as above?\n",
    "# we may also use Shapley values or something else from the ML output analysis!\n",
    "# The indices have converged, but some of them are numerically zero. For the negative values, check to see whether \n",
    "# their confidence intervals include zero-- if so, you can safely treat them as zero.\n",
    "# Generally speaking, the most sensitive parameters should have narrow confidence intervals, which are less \n",
    "# than 10% of the sensitivity indices (doi: 10.1002/psp4.6)\n",
    "# Confidence interval is one-sided\n",
    "import matplotlib.pyplot as plt\n",
    "from pylab import rcParams\n",
    "rcParams['figure.figsize'] = 15, 5\n",
    "plt.rc('xtick', labelsize=13)\n",
    "plt.rc('ytick', labelsize=13)\n",
    "plt.rc('axes', labelsize=13)\n",
    "barWidth = 0.3\n",
    "bars1 = list(Si[\"S1\"])\n",
    "bars2 = list(Si[\"ST\"])\n",
    "err1 = list(Si[\"S1_conf\"])\n",
    "err2 = list(Si[\"ST_conf\"])\n",
    "labels = [\"sn\",\"pbc\",\"kn\",\"ds\", \"att\", \"bin\"]\n",
    "\n",
    "df = pd.DataFrame(list(zip(bars1, bars2, err1, err2, labels)), columns=['bars1', 'bars2', 'err1', 'err2', 'labels'])\n",
    "df = df.sort_values('bars1', ascending=False)\n",
    "bars1 = df['bars1'].to_list()\n",
    "bars2 = df['bars2'].to_list()\n",
    "err1 = df['err1'].to_list()\n",
    "err2 = df['err2'].to_list()\n",
    "labels = df['labels'].to_list()\n",
    "\n",
    "r1 = np.arange(len(bars1))\n",
    "r2 = [x + barWidth for x in r1]\n",
    "fig, ax = plt.subplots(1, 1)\n",
    "ax.grid(zorder=0)\n",
    "ax.xaxis.grid(False)\n",
    "ax.bar(r1, bars1, width = barWidth, color = 'silver', edgecolor = 'silver', yerr=err1, capsize=7, label='First order', \n",
    "      zorder=3)\n",
    "ax.bar(r2, bars2, width = barWidth, color = 'dimgrey', edgecolor = 'dimgrey', yerr=err2, capsize=7, \n",
    "        label='Total order', zorder=3)\n",
    "from textwrap import wrap\n",
    "\n",
    "labels = [ '\\n'.join(wrap(l, 19)) for l in labels ]\n",
    "plt.xticks([r + barWidth for r in range(len(bars1))], labels)\n",
    "plt.ylabel('Sensitivity to circularity indices')\n",
    "plt.legend(fontsize=13)\n",
    "import matplotlib as mpl\n",
    "ax.get_yaxis().set_minor_locator(mpl.ticker.AutoMinorLocator(2))\n",
    "#ax.get_xaxis().set_minor_locator(mpl.ticker.AutoMinorLocator(2))\n",
    "ax.grid(b=True, which='minor', color='lightgrey', linewidth=0.5)\n",
    "ax.set_ylim(0, 1.1)\n",
    "plt.savefig(\"SobolIndicesMomentSensitivityAnalysis.png\", bbox_inches='tight', figsize=(5.5, 3.5), dpi=500)\n",
    "SA_results = pd.DataFrame.from_dict(Si, orient='index')\n",
    "SA_results.columns = [\"sn\",\"pbc\",\"kn\",\"ds\", \"att\", \"bin\"]\n",
    "SA_results = SA_results.T\n",
    "#print(SA_results.columns.tolist())\n",
    "#SA_results.drop(['S2', 'S2_conf'], axis=1)\n",
    "#SA_results = SA_results.astype(float)\n",
    "SA_results.head()\n",
    "SA_results.to_csv(\"SA_results_0714.csv\")"
   ]
  },
  {
   "cell_type": "code",
   "execution_count": 129,
   "metadata": {},
   "outputs": [
    {
     "name": "stderr",
     "output_type": "stream",
     "text": [
      "/Users/ssethura/opt/anaconda3/envs/pcem/lib/python3.8/site-packages/SALib/sample/saltelli.py:94: UserWarning: \n",
      "        Convergence properties of the Sobol' sequence is only valid if\n",
      "        `N` (1000) is equal to `2^n`.\n",
      "        \n",
      "  warnings.warn(msg)\n",
      "/Users/ssethura/opt/anaconda3/envs/pcem/lib/python3.8/site-packages/sklearn/base.py:450: UserWarning: X does not have valid feature names, but StandardScaler was fitted with feature names\n",
      "  warnings.warn(\n"
     ]
    },
    {
     "ename": "ValueError",
     "evalue": "X has 3 features, but StandardScaler is expecting 7 features as input.",
     "output_type": "error",
     "traceback": [
      "\u001b[0;31m---------------------------------------------------------------------------\u001b[0m",
      "\u001b[0;31mValueError\u001b[0m                                Traceback (most recent call last)",
      "\u001b[1;32m/Users/ssethura/Desktop/PCEM/ABM/ABM-SD-Sobol-Analysis.ipynb Cell 22'\u001b[0m in \u001b[0;36m<cell line: 13>\u001b[0;34m()\u001b[0m\n\u001b[1;32m     <a href='vscode-notebook-cell:/Users/ssethura/Desktop/PCEM/ABM/ABM-SD-Sobol-Analysis.ipynb#ch0000022?line=18'>19</a>\u001b[0m \u001b[39mfor\u001b[39;00m i \u001b[39min\u001b[39;00m \u001b[39mrange\u001b[39m(X_pred\u001b[39m.\u001b[39mshape[\u001b[39m0\u001b[39m]):\n\u001b[1;32m     <a href='vscode-notebook-cell:/Users/ssethura/Desktop/PCEM/ABM/ABM-SD-Sobol-Analysis.ipynb#ch0000022?line=19'>20</a>\u001b[0m     Xnew \u001b[39m=\u001b[39m [[X_pred[i][\u001b[39m0\u001b[39m], X_pred[i][\u001b[39m1\u001b[39m], \u001b[39m0\u001b[39m]]\n\u001b[0;32m---> <a href='vscode-notebook-cell:/Users/ssethura/Desktop/PCEM/ABM/ABM-SD-Sobol-Analysis.ipynb#ch0000022?line=20'>21</a>\u001b[0m     Xnew \u001b[39m=\u001b[39m sc\u001b[39m.\u001b[39;49mtransform(Xnew)\n\u001b[1;32m     <a href='vscode-notebook-cell:/Users/ssethura/Desktop/PCEM/ABM/ABM-SD-Sobol-Analysis.ipynb#ch0000022?line=21'>22</a>\u001b[0m     \u001b[39m#ynew = rfr.predict(Xnew)\u001b[39;00m\n\u001b[1;32m     <a href='vscode-notebook-cell:/Users/ssethura/Desktop/PCEM/ABM/ABM-SD-Sobol-Analysis.ipynb#ch0000022?line=22'>23</a>\u001b[0m     ynew \u001b[39m=\u001b[39m model\u001b[39m.\u001b[39mpredict(Xnew)\n",
      "File \u001b[0;32m~/opt/anaconda3/envs/pcem/lib/python3.8/site-packages/sklearn/preprocessing/_data.py:975\u001b[0m, in \u001b[0;36mStandardScaler.transform\u001b[0;34m(self, X, copy)\u001b[0m\n\u001b[1;32m    <a href='file:///Users/ssethura/opt/anaconda3/envs/pcem/lib/python3.8/site-packages/sklearn/preprocessing/_data.py?line=971'>972</a>\u001b[0m check_is_fitted(\u001b[39mself\u001b[39m)\n\u001b[1;32m    <a href='file:///Users/ssethura/opt/anaconda3/envs/pcem/lib/python3.8/site-packages/sklearn/preprocessing/_data.py?line=973'>974</a>\u001b[0m copy \u001b[39m=\u001b[39m copy \u001b[39mif\u001b[39;00m copy \u001b[39mis\u001b[39;00m \u001b[39mnot\u001b[39;00m \u001b[39mNone\u001b[39;00m \u001b[39melse\u001b[39;00m \u001b[39mself\u001b[39m\u001b[39m.\u001b[39mcopy\n\u001b[0;32m--> <a href='file:///Users/ssethura/opt/anaconda3/envs/pcem/lib/python3.8/site-packages/sklearn/preprocessing/_data.py?line=974'>975</a>\u001b[0m X \u001b[39m=\u001b[39m \u001b[39mself\u001b[39;49m\u001b[39m.\u001b[39;49m_validate_data(\n\u001b[1;32m    <a href='file:///Users/ssethura/opt/anaconda3/envs/pcem/lib/python3.8/site-packages/sklearn/preprocessing/_data.py?line=975'>976</a>\u001b[0m     X,\n\u001b[1;32m    <a href='file:///Users/ssethura/opt/anaconda3/envs/pcem/lib/python3.8/site-packages/sklearn/preprocessing/_data.py?line=976'>977</a>\u001b[0m     reset\u001b[39m=\u001b[39;49m\u001b[39mFalse\u001b[39;49;00m,\n\u001b[1;32m    <a href='file:///Users/ssethura/opt/anaconda3/envs/pcem/lib/python3.8/site-packages/sklearn/preprocessing/_data.py?line=977'>978</a>\u001b[0m     accept_sparse\u001b[39m=\u001b[39;49m\u001b[39m\"\u001b[39;49m\u001b[39mcsr\u001b[39;49m\u001b[39m\"\u001b[39;49m,\n\u001b[1;32m    <a href='file:///Users/ssethura/opt/anaconda3/envs/pcem/lib/python3.8/site-packages/sklearn/preprocessing/_data.py?line=978'>979</a>\u001b[0m     copy\u001b[39m=\u001b[39;49mcopy,\n\u001b[1;32m    <a href='file:///Users/ssethura/opt/anaconda3/envs/pcem/lib/python3.8/site-packages/sklearn/preprocessing/_data.py?line=979'>980</a>\u001b[0m     dtype\u001b[39m=\u001b[39;49mFLOAT_DTYPES,\n\u001b[1;32m    <a href='file:///Users/ssethura/opt/anaconda3/envs/pcem/lib/python3.8/site-packages/sklearn/preprocessing/_data.py?line=980'>981</a>\u001b[0m     force_all_finite\u001b[39m=\u001b[39;49m\u001b[39m\"\u001b[39;49m\u001b[39mallow-nan\u001b[39;49m\u001b[39m\"\u001b[39;49m,\n\u001b[1;32m    <a href='file:///Users/ssethura/opt/anaconda3/envs/pcem/lib/python3.8/site-packages/sklearn/preprocessing/_data.py?line=981'>982</a>\u001b[0m )\n\u001b[1;32m    <a href='file:///Users/ssethura/opt/anaconda3/envs/pcem/lib/python3.8/site-packages/sklearn/preprocessing/_data.py?line=983'>984</a>\u001b[0m \u001b[39mif\u001b[39;00m sparse\u001b[39m.\u001b[39missparse(X):\n\u001b[1;32m    <a href='file:///Users/ssethura/opt/anaconda3/envs/pcem/lib/python3.8/site-packages/sklearn/preprocessing/_data.py?line=984'>985</a>\u001b[0m     \u001b[39mif\u001b[39;00m \u001b[39mself\u001b[39m\u001b[39m.\u001b[39mwith_mean:\n",
      "File \u001b[0;32m~/opt/anaconda3/envs/pcem/lib/python3.8/site-packages/sklearn/base.py:600\u001b[0m, in \u001b[0;36mBaseEstimator._validate_data\u001b[0;34m(self, X, y, reset, validate_separately, **check_params)\u001b[0m\n\u001b[1;32m    <a href='file:///Users/ssethura/opt/anaconda3/envs/pcem/lib/python3.8/site-packages/sklearn/base.py?line=596'>597</a>\u001b[0m     out \u001b[39m=\u001b[39m X, y\n\u001b[1;32m    <a href='file:///Users/ssethura/opt/anaconda3/envs/pcem/lib/python3.8/site-packages/sklearn/base.py?line=598'>599</a>\u001b[0m \u001b[39mif\u001b[39;00m \u001b[39mnot\u001b[39;00m no_val_X \u001b[39mand\u001b[39;00m check_params\u001b[39m.\u001b[39mget(\u001b[39m\"\u001b[39m\u001b[39mensure_2d\u001b[39m\u001b[39m\"\u001b[39m, \u001b[39mTrue\u001b[39;00m):\n\u001b[0;32m--> <a href='file:///Users/ssethura/opt/anaconda3/envs/pcem/lib/python3.8/site-packages/sklearn/base.py?line=599'>600</a>\u001b[0m     \u001b[39mself\u001b[39;49m\u001b[39m.\u001b[39;49m_check_n_features(X, reset\u001b[39m=\u001b[39;49mreset)\n\u001b[1;32m    <a href='file:///Users/ssethura/opt/anaconda3/envs/pcem/lib/python3.8/site-packages/sklearn/base.py?line=601'>602</a>\u001b[0m \u001b[39mreturn\u001b[39;00m out\n",
      "File \u001b[0;32m~/opt/anaconda3/envs/pcem/lib/python3.8/site-packages/sklearn/base.py:400\u001b[0m, in \u001b[0;36mBaseEstimator._check_n_features\u001b[0;34m(self, X, reset)\u001b[0m\n\u001b[1;32m    <a href='file:///Users/ssethura/opt/anaconda3/envs/pcem/lib/python3.8/site-packages/sklearn/base.py?line=396'>397</a>\u001b[0m     \u001b[39mreturn\u001b[39;00m\n\u001b[1;32m    <a href='file:///Users/ssethura/opt/anaconda3/envs/pcem/lib/python3.8/site-packages/sklearn/base.py?line=398'>399</a>\u001b[0m \u001b[39mif\u001b[39;00m n_features \u001b[39m!=\u001b[39m \u001b[39mself\u001b[39m\u001b[39m.\u001b[39mn_features_in_:\n\u001b[0;32m--> <a href='file:///Users/ssethura/opt/anaconda3/envs/pcem/lib/python3.8/site-packages/sklearn/base.py?line=399'>400</a>\u001b[0m     \u001b[39mraise\u001b[39;00m \u001b[39mValueError\u001b[39;00m(\n\u001b[1;32m    <a href='file:///Users/ssethura/opt/anaconda3/envs/pcem/lib/python3.8/site-packages/sklearn/base.py?line=400'>401</a>\u001b[0m         \u001b[39mf\u001b[39m\u001b[39m\"\u001b[39m\u001b[39mX has \u001b[39m\u001b[39m{\u001b[39;00mn_features\u001b[39m}\u001b[39;00m\u001b[39m features, but \u001b[39m\u001b[39m{\u001b[39;00m\u001b[39mself\u001b[39m\u001b[39m.\u001b[39m\u001b[39m__class__\u001b[39m\u001b[39m.\u001b[39m\u001b[39m__name__\u001b[39m\u001b[39m}\u001b[39;00m\u001b[39m \u001b[39m\u001b[39m\"\u001b[39m\n\u001b[1;32m    <a href='file:///Users/ssethura/opt/anaconda3/envs/pcem/lib/python3.8/site-packages/sklearn/base.py?line=401'>402</a>\u001b[0m         \u001b[39mf\u001b[39m\u001b[39m\"\u001b[39m\u001b[39mis expecting \u001b[39m\u001b[39m{\u001b[39;00m\u001b[39mself\u001b[39m\u001b[39m.\u001b[39mn_features_in_\u001b[39m}\u001b[39;00m\u001b[39m features as input.\u001b[39m\u001b[39m\"\u001b[39m\n\u001b[1;32m    <a href='file:///Users/ssethura/opt/anaconda3/envs/pcem/lib/python3.8/site-packages/sklearn/base.py?line=402'>403</a>\u001b[0m     )\n",
      "\u001b[0;31mValueError\u001b[0m: X has 3 features, but StandardScaler is expecting 7 features as input."
     ]
    }
   ],
   "source": [
    "from SALib.sample import saltelli\n",
    "from SALib.analyze import sobol\n",
    "from SALib.analyze import delta\n",
    "from SALib.analyze import morris\n",
    "from SALib.test_functions import Ishigami\n",
    "problem = {\n",
    "        'num_vars': 2,\n",
    "        'names': [\"cutting_costs\", \"transport_cost_segments\"],\n",
    "        'bounds': [[0, 132], [0, 0.53]]}\n",
    "X_pred = saltelli.sample(problem, 1000)\n",
    "#X_pred = sc.fit_transform(X_pred)\n",
    "sobol_analysis = True\n",
    "if sobol_analysis:\n",
    "    result_array = np.empty((0, 4))\n",
    "    count = 0\n",
    "    replicates = 1\n",
    "    for i in range(replicates):\n",
    "        model.fit(X, y)\n",
    "        for i in range(X_pred.shape[0]):\n",
    "            Xnew = [[X_pred[i][0], X_pred[i][1], 0]]\n",
    "            Xnew = sc.transform(Xnew)\n",
    "            #ynew = rfr.predict(Xnew)\n",
    "            ynew = model.predict(Xnew)\n",
    "            result_array = np.append(result_array, [[i, X_pred[i][0], X_pred[i][1], \n",
    "                                                     float(ynew)]], axis=0)\n",
    "            count += 1\n",
    "            clear_output(wait=True)\n",
    "            print('loop ', count, ' out of ', replicates * X_pred.shape[0])\n",
    "    var_names = np.array(['index', \"cutting_costs\", \"transport_cost_segments\", 'Y'])\n",
    "    result_array =  np.vstack((var_names, result_array))\n",
    "    data_out2 = pd.DataFrame(data=result_array[1:,1:], columns=result_array[0,1:])\n",
    "    data_out2.to_csv(\"Data_out2.csv\")"
   ]
  },
  {
   "cell_type": "code",
   "execution_count": null,
   "metadata": {},
   "outputs": [
    {
     "name": "stdout",
     "output_type": "stream",
     "text": [
      "(6000, 2) 6000\n",
      "Parameter delta delta_conf S1 S1_conf\n",
      "cutting_costs 0.896410 0.001684 0.996953 0.000113\n",
      "transport_cost_segments 0.014048 0.005539 0.000763 0.002820\n"
     ]
    }
   ],
   "source": [
    "already_analyzed = False\n",
    "Y_analysis = result_array[:, -1]\n",
    "Y_analysis = np.array(np.delete(Y_analysis, 0)).astype(np.float)\n",
    "print(X_pred.shape, len(Y_analysis))\n",
    "if not already_analyzed:\n",
    "    Si = delta.analyze(problem, X_pred, Y_analysis, print_to_console=True)"
   ]
  },
  {
   "cell_type": "code",
   "execution_count": null,
   "metadata": {},
   "outputs": [
    {
     "name": "stdout",
     "output_type": "stream",
     "text": [
      "[0.8964102052525562, 0.014048496029480398] 0.9104587012820367\n"
     ]
    },
    {
     "data": {
      "image/png": "[encoded data removed]",
      "text/plain": [
       "<Figure size 504x360 with 1 Axes>"
      ]
     },
     "metadata": {
      "needs_background": "light"
     },
     "output_type": "display_data"
    }
   ],
   "source": [
    "import matplotlib.pyplot as plt\n",
    "from pylab import rcParams\n",
    "rcParams['figure.figsize'] = 7, 5\n",
    "barWidth = 0.3\n",
    "bars1 = list(Si[\"delta\"])\n",
    "print(bars1, sum(bars1))\n",
    "err1 = list(Si[\"delta_conf\"])\n",
    "labels = [\"Pre-processing costs\", \"Transport costs\"]\n",
    "\n",
    "df = pd.DataFrame(list(zip(bars1, err1, labels)), columns=['bars1', 'err1', 'labels'])\n",
    "df = df.sort_values('bars1', ascending=False)\n",
    "bars1 = df['bars1'].to_list()\n",
    "err1 = df['err1'].to_list()\n",
    "labels = df['labels'].to_list()\n",
    "\n",
    "r1 = np.arange(len(bars1))\n",
    "r2 = [x + barWidth for x in r1]\n",
    "plt.bar(r1, bars1, width = barWidth, color = 'grey', edgecolor = 'grey', yerr=err1, capsize=7, \n",
    "        label='First order effect')\n",
    "#plt.xticks([r + barWidth for r in range(len(bars1))], [\"cutting_costs\", \"transport_cost_segments\", \"cost_red\"])\n",
    "#plt.ylabel('Delta score')\n",
    "\n",
    "labels = [ '\\n'.join(wrap(l, 19)) for l in labels ]\n",
    "plt.xticks([r for r in range(len(bars1))], labels)\n",
    "labels2 = ['Landfill rate sensitivity to pre-processing and transport costs']\n",
    "labels2 = [ '\\n'.join(wrap(l2, 45)) for l2 in labels2 ]\n",
    "plt.ylabel(labels2[0])\n",
    "\n",
    "plt.legend()\n",
    "plt.savefig(\"DeltaMomentSensitivityAnalysis.png\", bbox_inches='tight', figsize=(5.5, 3.5), dpi=500)\n",
    "#with open('DeltaSAresults.csv', 'w') as output:\n",
    " #   writer = csv.writer(output)\n",
    "  #  for key, value in Si.items():\n",
    "   #     writer.writerow([key, value])"
   ]
  },
  {
   "cell_type": "markdown",
   "metadata": {},
   "source": [
    "# Isopleth"
   ]
  },
  {
   "cell_type": "code",
   "execution_count": null,
   "metadata": {},
   "outputs": [
    {
     "name": "stdout",
     "output_type": "stream",
     "text": [
      "loop  10000  out of  10000\n"
     ]
    }
   ],
   "source": [
    "result_array = np.empty((0, 4))\n",
    "count=0\n",
    "for i in np.linspace(0, 1, 100):\n",
    "    for j in np.linspace(0, 1, 100):\n",
    "        i_b = 0.7 + j * 0.3\n",
    "        j1 = 0.7 + j * 0.3\n",
    "        j2 = i * 2080\n",
    "        Xnew = [[i_b, j1, j2]]\n",
    "        Xnew = sc.transform(Xnew)\n",
    "        #ynew = rfr.predict(Xnew)\n",
    "        ynew = model.predict(Xnew)\n",
    "        result_array = np.append(result_array, [[i*j, i, j, float(ynew)]], axis=0)\n",
    "        count += 1\n",
    "        clear_output(wait=True)\n",
    "        print('loop ', count, ' out of ', len(np.linspace(0, 1, 100))*len(np.linspace(0, 1, 100)))\n",
    "var_names = np.array(['index', 'Recycling costs', 'Landfill costs', 'Recycling rate'])\n",
    "result_array =  np.vstack((var_names, result_array))\n",
    "data_out3 = pd.DataFrame(data=result_array[1:,1:], columns=result_array[0,1:])\n",
    "data_out3.to_csv(\"Data_out9.csv\")"
   ]
  },
  {
   "cell_type": "code",
   "execution_count": null,
   "metadata": {},
   "outputs": [
    {
     "name": "stderr",
     "output_type": "stream",
     "text": [
      "C:\\Users\\jwalzber\\AppData\\Local\\Continuum\\anaconda3\\lib\\site-packages\\ipykernel_launcher.py:51: SettingWithCopyWarning: \n",
      "A value is trying to be set on a copy of a slice from a DataFrame\n",
      "\n",
      "See the caveats in the documentation: https://pandas.pydata.org/pandas-docs/stable/user_guide/indexing.html#returning-a-view-versus-a-copy\n"
     ]
    },
    {
     "data": {
      "image/png": "[encoded data removed]",
      "text/plain": [
       "<Figure size 576x288 with 2 Axes>"
      ]
     },
     "metadata": {},
     "output_type": "display_data"
    }
   ],
   "source": [
    "#sns.set(style=\"whitegrid\", font_scale=1.6, color_codes=True)\n",
    "from pylab import rcParams\n",
    "import matplotlib.ticker as mtick\n",
    "import textwrap\n",
    "#print(data_in)\n",
    "plt.style.use('seaborn-white')\n",
    "\n",
    "#def f(x, y):\n",
    " #   return np.sin(x) ** 10 + np.cos(10 + y * x) * np.cos(x)\n",
    "\n",
    "#x = np.linspace(0, 5, 500)\n",
    "#y = np.linspace(0, 5, 400)\n",
    "\n",
    "#X, Y = np.meshgrid(x, y)\n",
    "#Z = f(X, Y)\n",
    "#.ravel().tolist()\n",
    "data_in = pd.read_csv(\"Data_out9.csv\")\n",
    "# NewValue = (((OldValue - OldMin) * (NewMax - NewMin)) / (OldMax - OldMin)) + NewMin\n",
    "#data_in[\"Recycling costs\"] = (((data_in[\"Recycling costs\"] - data_in[\"Recycling costs\"].min()) * (1 - 0.8)) \n",
    " #                            / (data_in[\"Recycling costs\"].max() - data_in[\"Recycling costs\"].min()) + 0.8)\n",
    "#data_in[\"Landfill costs\"] = (((data_in[\"Recycling costs\"] - data_in[\"Recycling costs\"].min()) * (28 - 0)) \n",
    " #                            / (data_in[\"Recycling costs\"].max() - data_in[\"Recycling costs\"].min()) + 0)\n",
    "x = data_in[\"Recycling costs\"].unique()\n",
    "y = data_in[\"Landfill costs\"].unique()\n",
    "#x = -x\n",
    "X, Y = np.meshgrid(x, y)  # np.meshgrid switch x and y so x axis is Y data and y axis is X data\n",
    "# normalize data to avoid prediction below 0% or above 100%\n",
    "\n",
    "# normalize data to avoid prediction below 0% or above 100%\n",
    "normalize = False\n",
    "if (sum(data_in[\"Recycling rate\"] < 0) > 0 or sum(data_in[\"Recycling rate\"] > 1) > 0) and normalize:\n",
    "    if sum(data_in[\"Recycling rate\"] > 1) > 0 and sum(data_in[\"Recycling rate\"] < 0) > 0:\n",
    "        print('Normalized data_in to 0-1')\n",
    "        data_in[\"Recycling rate\"] = ((data_in[\"Recycling rate\"] - data_in[\"Recycling rate\"].min()) \n",
    "                             / (data_in[\"Recycling rate\"].max() - data_in[\"Recycling rate\"].min()))\n",
    "    elif sum(data_in[\"Recycling rate\"] < 0) > 0:\n",
    "        print('Normalized data_in to 0-max')\n",
    "        data_in[\"Recycling rate\"] = ((data_in[\"Recycling rate\"] - data_in[\"Recycling rate\"].min()) \n",
    "                                 / (data_in[\"Recycling rate\"].max() - data_in[\"Recycling rate\"].min()) * \n",
    "                                 data_in[\"Recycling rate\"].max())\n",
    "    elif sum(data_in[\"Recycling rate\"] > 1) > 0:\n",
    "    # The general one-line formula to linearly rescale data values having observed min and max into a \n",
    "    # new arbitrary range min' to max' is: \n",
    "    # newvalue= (max'-min')/(max-min)*(value-max)+max' or:\n",
    "    # newvalue= (max'-min')/(max-min)*(value-min)+min'.\n",
    "        print('Normalized data_in to min-1')\n",
    "        data_in[\"Recycling rate\"] = ((1 - data_in[\"Recycling rate\"].min()) / \n",
    "                                     (data_in[\"Recycling rate\"].max() - data_in[\"Recycling rate\"].min()) \n",
    "                                     * (data_in[\"Recycling rate\"] - data_in[\"Recycling rate\"].max()) + 1)\n",
    "#data_in[data_in[\"Recycling rate\"] < 0] = 0\n",
    "data_in[\"Recycling rate\"][data_in[\"Recycling rate\"] < 0] = 0\n",
    "data_in.to_csv(\"test.csv\")\n",
    "Z = data_in[\"Recycling rate\"].values * 100 #* 0.8036\n",
    "Z = Z.reshape((len(x), len(y)))\n",
    "\n",
    "# HERE: normalize z from 0 to 100\n",
    "\n",
    "class nf(float):\n",
    "    def __repr__(self):\n",
    "        str = '%.1f' % (self.__float__(),)\n",
    "        if str[-1] == '0':\n",
    "            return '%.0f' % self.__float__()\n",
    "        else:\n",
    "            return '%.1f' % self.__float__()\n",
    "\n",
    "#figure, axes = plt.subplots(nrows=3, ncols=3)\n",
    "fig = plt.figure(figsize=(8, 4))\n",
    "num=0\n",
    "for i in range(1):\n",
    "    num+=1\n",
    " \n",
    "    # Find the right spot on the plot\n",
    "    plt.subplot(1,1, num)\n",
    " \n",
    "    if plt.rcParams[\"text.usetex\"]:\n",
    "        fmt = r'%r \\%%'\n",
    "    else:\n",
    "        fmt = '%r %%'\n",
    "\n",
    "    # Plot the lineplot\n",
    "    if num == 1:\n",
    "        CS = plt.contour(X, Y, Z, 5, colors='black')\n",
    "        CS.levels = [nf(val) for val in CS.levels]\n",
    "        im = plt.imshow(Z, extent=[0, 1, 0, 1], origin='lower',\n",
    "               cmap='copper', alpha=0.5)\n",
    "        #plt.clabel(CS, CS.levels, fmt='%1.0f', inline=True, fontsize=22)\n",
    "        plt.clabel(CS, CS.levels, fmt=fmt, inline=True, fontsize=22)\n",
    "        \n",
    "        #x_values = [0.11, 0.11]\n",
    "        #y_values = [0, 1]\n",
    "        #plt.plot(x_values, y_values, color='red', linestyle='dashed')\n",
    "        #x_values2 = [0, 1]\n",
    "        #y_values2 = [0.88, 0.88]\n",
    "        #plt.plot(x_values2, y_values2, color='red', linestyle='dashed')\n",
    "        #x_values3 = [0.997, 0.997]\n",
    "        #y_values3 = [0, 1]\n",
    "        #plt.plot(x_values3, y_values3, color='red', linestyle='dashed')\n",
    "        #x_values4 = [0, 1]\n",
    "        #y_values4 = [0.21, 0.21]\n",
    "        #plt.plot(x_values4, y_values4, color='red', linestyle='dashed')\n",
    "        \n",
    "    elif num == 2:\n",
    "        CS2 = plt.contour(X2, Y2, Z2, 5, colors='black')\n",
    "        CS2.levels = [nf(val) for val in CS2.levels]\n",
    "        im = plt.imshow(Z2, extent=[0, 1, 0, 1], origin='lower',\n",
    "               cmap='coolwarm', alpha=0.5, vmin=0, vmax=100)\n",
    "        plt.clabel(CS2, CS2.levels, fmt=fmt, inline=True, fontsize=9)\n",
    "    elif num == 3:\n",
    "        CS3 = plt.contour(X3, Y3, Z3, 5, colors='black')\n",
    "        CS3.levels = [nf(val) for val in CS3.levels]\n",
    "        im = plt.imshow(Z3, extent=[0, 1, 0, 1], origin='lower',\n",
    "               cmap='coolwarm', alpha=0.5, vmin=0, vmax=100)\n",
    "        plt.clabel(CS3, CS3.levels, fmt=fmt, inline=True, fontsize=9)\n",
    "    elif num == 4:\n",
    "        CS4 = plt.contour(X4, Y4, Z4, 5, colors='black')\n",
    "        CS4.levels = [nf(val) for val in CS4.levels]\n",
    "        im = plt.imshow(Z4, extent=[0, 1, 0, 1], origin='lower',\n",
    "               cmap='coolwarm', alpha=0.5, vmin=0, vmax=100)\n",
    "        plt.clabel(CS4, CS4.levels, fmt=fmt, inline=True, fontsize=9)\n",
    "    else:\n",
    "        CS5 = plt.contour(X5, Y5, Z5, 5, colors='black')\n",
    "        CS5.levels = [nf(val) for val in CS5.levels]\n",
    "        im = plt.imshow(Z5, extent=[0, 1, 0, 1], origin='lower',\n",
    "               cmap='coolwarm', alpha=0.5, vmin=0, vmax=100)\n",
    "        plt.clabel(CS5, CS5.levels, fmt=fmt, inline=True, fontsize=9)\n",
    "\n",
    "    #plt.axis(aspect='image')\n",
    " \n",
    "    # Same limits for everybody!\n",
    "    plt.xlim(0,1)\n",
    "    plt.ylim(0,1)\n",
    "    # np.meshgrid switch x and y so x axis is Y data and y axis is X data so label of x axis needs to \n",
    "    # correspond to Y data and label of y axis to X data\n",
    "    plt.xticks([0, 0.2, 0.4, 0.6, 0.8, 1], [0.7, 0.76, 0.82, 0.88, 0.94, 1])\n",
    "    plt.yticks([0.15, 0.32, 0.48, 0.65, 0.82, 0.99], [-350, 0, 350, 700, 1050, 1400])\n",
    "    #plt.yticks([0, 0.25, 0.5, 0.75, 1], [0, 0.25, 0.5, 0.75, 1])\n",
    "    #plt.yticks([0, 0.25, 0.5, 0.75, 1], [0, 0.15, 0.3, 0.45, 0.6])\n",
    "    #plt.yticks([0, 0.25, 0.5, 0.75, 1], [1, 24, 48, 72, 96])\n",
    "    plt.xticks(fontsize=22)\n",
    "    plt.yticks(fontsize=22)\n",
    " \n",
    "    # Not ticks everywhere\n",
    "    #if num in range(3):\n",
    "     #   plt.tick_params(axis='x', labelbottom=False)\n",
    "    if num not in [1,3]:\n",
    "        plt.tick_params(axis='y', labelleft=False)\n",
    "    #if num in [3,6,9]:\n",
    "     #   plt.colorbar()\n",
    " \n",
    "    # Add title\n",
    "    from textwrap import wrap\n",
    "    title_list = [\" \", \"Landfill cost (x1) - improved warranties (x2)\", \n",
    "                  \"Recycling cost (x1) - product lifetime (x2)\", \"Recycling cost (x1) - number facilities (x2)\", \n",
    "                 \"Recycling cost (x1) - learning effect (x2)\", \"Recycling cost (x1) - learning effect (x2)\"]\n",
    "    title_list = [ '\\n'.join(wrap(l, 50)) for l in title_list ]\n",
    "    plt.title(title_list[i], loc='center', fontsize=16, fontweight=0.2)\n",
    "    # use adjust to get the figure correct margins\n",
    "plt.subplots_adjust(left=0.,\n",
    "                    bottom=0., \n",
    "                    right=0.8, \n",
    "                    top=1.6, \n",
    "                    wspace=0.1, \n",
    "                    hspace=0.2)\n",
    "cbar_ax = fig.add_axes([0.82, 0.14, 0.03, 1.3])\n",
    "fig.colorbar(im, cax=cbar_ax)\n",
    "fig.colorbar(im, cax=cbar_ax, format=\"%r %%\")\n",
    "cbar_ax.tick_params(labelsize=22)\n",
    "#plt.text(55, 50, 'Reuse rate', rotation='vertical', \n",
    "#         fontsize=26)\n",
    "#plt.text(0, 0, 'Modules in CE pathways', ha='center', va='center', rotation='vertical', \n",
    " #        fontsize=14)\n",
    "# Axis title\n",
    "plt.text(-680, -1, \"Dissolution recycling revenues ($/ton)\", fontsize=26, rotation='vertical')\n",
    "plt.text(110, 2, 'Dissolution recycling rate', fontsize=26, rotation='vertical')\n",
    "#plt.text(-100, 102, 'Transportation costs & barriers sensitivity analysis', fontsize=26)\n",
    "plt.text(-590, -5, \"Mean attitude toward thermoplastic blades\", fontsize=26)\n",
    "\n",
    "#labels1 = [\"Shreds transport costs\", \"Shreds pre processing costs\"]\n",
    "#labels2 = [\"Segment transport costs\", \"Segment pre processing costs\"]\n",
    "#labels1 = [ '\\n'.join(wrap(l, 10)) for l in labels1 ]\n",
    "#labels2 = [ '\\n'.join(wrap(l, 20)) for l in labels2 ]\n",
    "#plt.text(-2400, -23, labels1[0], fontsize=14, color='red')\n",
    "#plt.text(-2900, 87, labels1[1], fontsize=14, color='red')\n",
    "#plt.text(-300, -23, labels2[0], fontsize=14, color='red')\n",
    "#plt.text(150, 9, labels2[1], fontsize=14, color='red')\n",
    "\n",
    "cbar_ax.yaxis.set_major_formatter(mtick.PercentFormatter())\n",
    "#plt.plot([-1, 0], [100, 250], 'k-', lw=2)\n",
    "plt.savefig(\"figure10.2.png\", bbox_inches='tight', figsize=(3, 2), dpi=500)"
   ]
  }
 ],
 "metadata": {
  "anaconda-cloud": {},
  "interpreter": {
   "hash": "8f25be17955ad5d0b82b5af9bbcc5371e8fb307df9657cf059f300c050a05252"
  },
  "kernelspec": {
   "display_name": "Python 3.8.13 ('pcem')",
   "language": "python",
   "name": "python3"
  },
  "language_info": {
   "codemirror_mode": {
    "name": "ipython",
    "version": 3
   },
   "file_extension": ".py",
   "mimetype": "text/x-python",
   "name": "python",
   "nbconvert_exporter": "python",
   "pygments_lexer": "ipython3",
   "version": "3.8.13"
  }
 },
 "nbformat": 4,
 "nbformat_minor": 1
}
